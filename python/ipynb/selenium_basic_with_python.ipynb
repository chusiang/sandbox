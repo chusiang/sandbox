{
 "cells": [
  {
   "cell_type": "markdown",
   "metadata": {},
   "source": [
    "# Selenium Basic with Python 2.7"
   ]
  },
  {
   "cell_type": "markdown",
   "metadata": {},
   "source": [
    "## About Me\n",
    "\n",
    "- 凍仁翔 [(@chusiang_lai)](https://twitter.com/chusiang_lai)\n",
    "- chusiang.lai (at) gmail.com\n",
    "- http://note.drx.tw\n"
   ]
  },
  {
   "cell_type": "markdown",
   "metadata": {},
   "source": [
    "## Basic\n",
    "\n",
    "This is a simple example of selenium x python.\n",
    "\n",
    "- python 2.7\n",
    "  - pip 7.1.2\n",
    "  - selenium 2.48.0\n",
    "- Mac OS X 10.11.1"
   ]
  },
  {
   "cell_type": "code",
   "execution_count": 3,
   "metadata": {
    "collapsed": false
   },
   "outputs": [
    {
     "name": "stdout",
     "output_type": "stream",
     "text": [
      "Result 1st: Selenium basic with Python\n",
      "Result 2nd: Hello Selenium !\n"
     ]
    }
   ],
   "source": [
    "#!/usr/bin/python\n",
    "# -*- coding: utf8 -*-\n",
    "\n",
    "from selenium import webdriver\n",
    "from selenium.webdriver.common.keys import Keys\n",
    "from time import sleep\n",
    "\n",
    "# 使用 Firefox 作為 webdriver。\n",
    "driver = webdriver.Firefox()\n",
    "\n",
    "# 前往 Google 首頁。\n",
    "driver.get(\"https://www.google.com.tw\")\n",
    "sleep(2)\n",
    "\n",
    "# 驗證 <title> </title> 裡的文字是否為 Google。\n",
    "assert \"Google\" in driver.title\n",
    "\n",
    "# 定義 Google 首頁搜尋框的元素名為 element。\n",
    "element_searchbox = driver.find_element_by_name(\"q\")\n",
    "\n",
    "# 於搜尋框輸入文字\n",
    "element_searchbox.send_keys(\"Selenium basic\")\n",
    "sleep(2)\n",
    "\n",
    "element_searchbox.send_keys(\" with Python\", Keys.ARROW_LEFT)  # 除輸入文字後並按下 <左方向鍵>。\n",
    "sleep(2)\n",
    "\n",
    "# 取得搜尋框內容。\n",
    "print(\"Result 1st: \" + element_searchbox.get_attribute(\"value\"))\n",
    "\n",
    "# 清除搜尋框內容。\n",
    "element_searchbox.clear()\n",
    "sleep(2)\n",
    "\n",
    "element_searchbox.send_keys(\"Hello Selenium !\")\n",
    "print(\"Result 2nd: \" + element_searchbox.get_attribute(\"value\"))\n",
    "\n",
    "# 於搜尋框按下 <Enter>。\n",
    "element_searchbox.send_keys(Keys.RETURN)\n"
   ]
  },
  {
   "cell_type": "markdown",
   "metadata": {
    "collapsed": true
   },
   "source": [
    "### Screen Recording\n",
    "\n",
    "![hello selenium result](../img/2015-11-21-hello-selenium.gif)"
   ]
  },
  {
   "cell_type": "markdown",
   "metadata": {},
   "source": [
    "### 解說\n",
    "\n",
    "1. 定義 name 為 q 的元素名為 element。[» more](http://selenium-python.readthedocs.org/locating-elements.html)\n",
    " \n",
    "        element_searchbox = driver.find_element_by_name(\"q\")                  # name\n",
    "        element_searchbox = driver.find_element_by_id(\"lst-ib\")               # id\n",
    "        element_searchbox = driver.find_element_by_xpath(\"//*[@id=\"lst-ib\"]\") # xpath\n",
    "\n",
    " 1. Get xpath with Chrome.\n",
    " ![xpath](../img/2015-11-21-chrome-develop-tool-xpath.png)\n",
    "\n",
    "1. 送出按鍵。\n",
    "\n",
    "        element_searchbox.send_keys(\"word1\")\n",
    "        element_searchbox.send_keys(\" word2\", Keys.RETURN) # 送出文字並按下 <Enter>\n",
    "\n",
    "1. 印出搜尋框內容。\n",
    "\n",
    "        print(element_searchbox.get_attribute(\"value\"))\n",
    "\n",
    "1. 清除搜尋框內容。\n",
    "\n",
    "        element_searchbox.clear()\n"
   ]
  },
  {
   "cell_type": "markdown",
   "metadata": {
    "collapsed": true
   },
   "source": [
    "## Advanced\n",
    "\n",
    "### Wait?\n",
    "\n",
    "除了使用睡覺大絕 (sleep) 之外，還可以使用 `expected_conditions` 來等待特定的物件 (Object) 出現。[» more](http://selenium-python.readthedocs.org/waits.html)\n",
    "\n",
    "    from selenium import webdriver\n",
    "    from selenium.webdriver.common.by import By\n",
    "    from selenium.webdriver.support.ui import WebDriverWait\n",
    "    from selenium.webdriver.support import expected_conditions as EC\n",
    "\n",
    "    driver = webdriver.Firefox()\n",
    "    driver.get(\"http://somedomain/url_that_delays_loading\")\n",
    "    try:\n",
    "        element = WebDriverWait(driver, 10).until(\n",
    "            EC.presence_of_element_located((By.ID, \"myDynamicElement\"))\n",
    "        )\n",
    "    finally:\n",
    "        driver.quit()\n",
    "\n",
    "### ConfigParser\n",
    "\n",
    "不想將帳密等敏感資訊寫死的？可藉由 `ConfigParser` 獨立出設定檔。[» more](https://docs.python.org/2/library/configparser.html)\n",
    "\n",
    "- example of config file.\n",
    "\n",
    "        [profile]\n",
    "\n",
    "        hostname = http://example.tw\n",
    "        username = [USERNAME]\n",
    "        password = [PASSWORD]\n",
    "\n",
    "\n",
    "- example of code.\n",
    "\n",
    "        #!/usr/bin/python\n",
    "        # -*- coding: utf8 -*-\n",
    "\n",
    "        import ConfigParser\n",
    "\n",
    "        # profile = ['<HOSTNAME>', '<USERNAME>', '<PASSWORD>']\n",
    "        def load_setting():\n",
    "            config = ConfigParser.ConfigParser()\n",
    "            config.read('setting.ini')\n",
    "    \n",
    "            hostname = config.get('profile', 'hostname')\n",
    "            username = config.get('profile', 'username')\n",
    "            password = config.get('profile', 'password')\n",
    "            profile = [hostname, username, password]\n",
    "\n",
    "            return profile\n",
    "\n",
    "        ...\n",
    "\n",
    "### csv\n",
    "\n",
    "需大量輸入資料？我們可藉由 `csv` 和迴圈來批次匯入。[» more](https://docs.python.org/2/library/csv.html?highlight=csv)\n",
    "\n",
    "- example of csv file.\n",
    "\n",
    "        Name, Desc, Address\n",
    "        John, A boy., http://example.tw/?name=john\n",
    "        Tom, A man., http://example.tw/?name=tom\n",
    "        May, A girl., http://example.tw/?name=may\n",
    "\n",
    "- example of code.\n",
    "\n",
    "        #!/usr/bin/python\n",
    "        # -*- coding: utf8 -*-\n",
    "        \n",
    "        import csv\n",
    "    \n",
    "        # Import CSV file.\n",
    "        csv_file = open(\"sample.csv\", 'r')\n",
    "\n",
    "        # Loop of covert csv file to array.\n",
    "        for row in csv.reader(csv_file):\n",
    "          _csv_name = row[0].lower()\n",
    "          _csv_desc = row[1]\n",
    "          _csv_address = row[2].lower()\n",
    "          \n",
    "        ...\n"
   ]
  },
  {
   "cell_type": "markdown",
   "metadata": {},
   "source": [
    "## Reference\n",
    "\n",
    "1. [Selenium with Python — Selenium Python Bindings 2 documentation](http://selenium-python.readthedocs.org/index.html)\n",
    "1. [Jupyter Documentation — Jupyter Documentation 4.0.0.dev documentation](http://jupyter.readthedocs.org/en/latest/index.html)\n"
   ]
  }
 ],
 "metadata": {
  "kernelspec": {
   "display_name": "Python 2",
   "language": "python",
   "name": "python2"
  },
  "language_info": {
   "codemirror_mode": {
    "name": "ipython",
    "version": 2
   },
   "file_extension": ".py",
   "mimetype": "text/x-python",
   "name": "python",
   "nbconvert_exporter": "python",
   "pygments_lexer": "ipython2",
   "version": "2.7.10"
  }
 },
 "nbformat": 4,
 "nbformat_minor": 0
}
