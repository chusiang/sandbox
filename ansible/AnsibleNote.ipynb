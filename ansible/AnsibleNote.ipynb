{
 "cells": [
  {
   "cell_type": "markdown",
   "metadata": {},
   "source": [
    "# Ansible Note | chusiang\n",
    "\n",
    "This is a note for Ansible with jupyter (iPython Notebook), [fork me on GitHub](https://github.com/chusiang/sandbox/tree/develop/ansible)."
   ]
  },
  {
   "cell_type": "markdown",
   "metadata": {},
   "source": [
    "## Environment"
   ]
  },
  {
   "cell_type": "code",
   "execution_count": 8,
   "metadata": {
    "collapsed": false
   },
   "outputs": [
    {
     "name": "stdout",
     "output_type": "stream",
     "text": [
      "root\r\n"
     ]
    }
   ],
   "source": [
    "!whoami"
   ]
  },
  {
   "cell_type": "code",
   "execution_count": 2,
   "metadata": {
    "collapsed": false
   },
   "outputs": [
    {
     "name": "stdout",
     "output_type": "stream",
     "text": [
      "/vagrant\r\n"
     ]
    }
   ],
   "source": [
    "!pwd"
   ]
  },
  {
   "cell_type": "code",
   "execution_count": 3,
   "metadata": {
    "collapsed": false
   },
   "outputs": [
    {
     "name": "stdout",
     "output_type": "stream",
     "text": [
      "# syntax: servername  options\r\n",
      "# 常用選項\r\n",
      "# ansible_ssh_host -- Remote Host IP\r\n",
      "# ansible_ssh_user -- Remote SSH User Name\r\n",
      "# ansible_ssh_private_key_file -- SSH Key\r\n",
      "# ansible_ssh_port -- ssh port\r\n",
      "# ansible_ssh_pass -- ssh password\r\n",
      "\r\n",
      "# 如果有定義到 ansible.cfg 的 [ defaults ] 就可以不列出\r\n",
      "# testserver   ansible_ssh_host=xxx.xxx.xxx.xxx ansible_ssh_port=xx ansible_ssh_pass\r\n",
      "\r\n",
      "ubuntu1   ansible_ssh_host=33.33.33.31  ansible_ssh_port=22\r\n",
      "\r\n",
      "# docker1       ansible_ssh_host=172.17.0.3 ansible_ssh_port=22\r\n",
      "\r\n",
      "# 針對不同的平台可能 key 以及使用者不一樣可以額外指定\r\n",
      "\r\n",
      "# 也可以用群組的方式\r\n",
      "[vagrant]\r\n",
      "ubuntu1\r\n",
      "\r\n",
      "[test]\r\n",
      "ubuntu1\r\n",
      "\r\n",
      "# [docker]\r\n"
     ]
    }
   ],
   "source": [
    "!cat hosts"
   ]
  },
  {
   "cell_type": "markdown",
   "metadata": {},
   "source": [
    "## Ad-Hoc Commands\n",
    "\n",
    "相對於 Ad-Hoc 和 ansible-playbook，我們可以用 command line 和 shell script 來理解。  \n",
    "\n",
    "* [Introduction To Ad-Hoc Commands | Ansible Documentation](http://docs.ansible.com/ansible/intro_adhoc.html)\n",
    "* [Introduction To Ad-Hoc Commands | Ansible 中文權威指南 1.0.1](http://chusiang.github.io/ansible-docs-translate/intro_adhoc.html)\n",
    "\n",
    "### Command\n",
    "\n",
    "因 command 這模組可省略 `-m command`，故簡寫之。"
   ]
  },
  {
   "cell_type": "code",
   "execution_count": 37,
   "metadata": {
    "collapsed": false,
    "scrolled": false
   },
   "outputs": [
    {
     "name": "stdout",
     "output_type": "stream",
     "text": [
      "\u001b[0;32mubuntu1 | SUCCESS | rc=0 >>\r\n",
      "vagrant\r\n",
      "\u001b[0m\r\n"
     ]
    }
   ],
   "source": [
    "!ansible all -a 'whoami'"
   ]
  },
  {
   "cell_type": "code",
   "execution_count": 29,
   "metadata": {
    "collapsed": false,
    "scrolled": false
   },
   "outputs": [
    {
     "name": "stdout",
     "output_type": "stream",
     "text": [
      "\u001b[0;32mubuntu1 | SUCCESS | rc=0 >>\r\n",
      "Distributor ID:\tUbuntu\r\n",
      "Description:\tUbuntu 14.04.4 LTS\r\n",
      "Release:\t14.04\r\n",
      "Codename:\ttrustyNo LSB modules are available.\r\n",
      "\u001b[0m\r\n"
     ]
    }
   ],
   "source": [
    "!ansible all -m command -a 'lsb_release -a'"
   ]
  },
  {
   "cell_type": "markdown",
   "metadata": {},
   "source": [
    "### Ping"
   ]
  },
  {
   "cell_type": "code",
   "execution_count": 7,
   "metadata": {
    "collapsed": false
   },
   "outputs": [
    {
     "name": "stdout",
     "output_type": "stream",
     "text": [
      "\u001b[0;32mubuntu1 | SUCCESS => {\r\n",
      "    \"changed\": false, \r\n",
      "    \"ping\": \"pong\"\r\n",
      "}\u001b[0m\r\n"
     ]
    }
   ],
   "source": [
    "!ansible all -m ping"
   ]
  },
  {
   "cell_type": "markdown",
   "metadata": {},
   "source": [
    "### File Transfer\n",
    "\n",
    "* Copy file."
   ]
  },
  {
   "cell_type": "code",
   "execution_count": 4,
   "metadata": {
    "collapsed": false
   },
   "outputs": [
    {
     "name": "stdout",
     "output_type": "stream",
     "text": [
      "\u001b[0;32mubuntu1 | SUCCESS => {\r\n",
      "    \"changed\": true, \r\n",
      "    \"checksum\": \"8cdab64639ae175a2e4dfcac34fa42afb93ea8d3\", \r\n",
      "    \"dest\": \"/tmp/README.md\", \r\n",
      "    \"gid\": 1000, \r\n",
      "    \"group\": \"vagrant\", \r\n",
      "    \"md5sum\": \"3eef0c4dbb0f8462a5df3823ff40fd17\", \r\n",
      "    \"mode\": \"0664\", \r\n",
      "    \"owner\": \"vagrant\", \r\n",
      "    \"size\": 1158, \r\n",
      "    \"src\": \"/home/vagrant/.ansible/tmp/ansible-tmp-1457325827.21-156048055407184/source\", \r\n",
      "    \"state\": \"file\", \r\n",
      "    \"uid\": 1000\r\n",
      "}\u001b[0m\r\n"
     ]
    }
   ],
   "source": [
    "!ansible all -m copy -a \"src=README.md dest=/tmp/\""
   ]
  },
  {
   "cell_type": "markdown",
   "metadata": {},
   "source": [
    "* Change file permssion, like this:\n",
    "\n",
    "        $ chmod 600 /tmp/REEADME.md"
   ]
  },
  {
   "cell_type": "code",
   "execution_count": 10,
   "metadata": {
    "collapsed": false
   },
   "outputs": [
    {
     "name": "stdout",
     "output_type": "stream",
     "text": [
      "\u001b[0;32mubuntu1 | SUCCESS => {\r\n",
      "    \"changed\": true, \r\n",
      "    \"gid\": 1000, \r\n",
      "    \"group\": \"vagrant\", \r\n",
      "    \"mode\": \"0600\", \r\n",
      "    \"owner\": \"vagrant\", \r\n",
      "    \"path\": \"/tmp/README.md\", \r\n",
      "    \"size\": 1158, \r\n",
      "    \"state\": \"file\", \r\n",
      "    \"uid\": 1000\r\n",
      "}\u001b[0m\r\n"
     ]
    }
   ],
   "source": [
    "!ansible all -m file -a \"dest=/tmp/README.md mode=600\""
   ]
  },
  {
   "cell_type": "code",
   "execution_count": 13,
   "metadata": {
    "collapsed": false
   },
   "outputs": [
    {
     "name": "stdout",
     "output_type": "stream",
     "text": [
      "\u001b[0;32mubuntu1 | SUCCESS | rc=0 >>\r\n",
      "total 4\r\n",
      "-rw------- 1 vagrant vagrant 1158 Mar  7 04:43 README.md\r\n",
      "\u001b[0m\r\n"
     ]
    }
   ],
   "source": [
    "!ansible all -m command -a \"ls -l /tmp\""
   ]
  },
  {
   "cell_type": "markdown",
   "metadata": {},
   "source": [
    "* Change file permssion, like this:\n",
    "\n",
    "        $ sudo chmod 600 /tmp/REEADME.md && sudo chown root:root /tmp/README.md"
   ]
  },
  {
   "cell_type": "code",
   "execution_count": 14,
   "metadata": {
    "collapsed": false,
    "scrolled": true
   },
   "outputs": [
    {
     "name": "stdout",
     "output_type": "stream",
     "text": [
      "\u001b[0;32mubuntu1 | SUCCESS => {\r\n",
      "    \"changed\": true, \r\n",
      "    \"gid\": 0, \r\n",
      "    \"group\": \"root\", \r\n",
      "    \"mode\": \"0600\", \r\n",
      "    \"owner\": \"root\", \r\n",
      "    \"path\": \"/tmp/README.md\", \r\n",
      "    \"size\": 1158, \r\n",
      "    \"state\": \"file\", \r\n",
      "    \"uid\": 0\r\n",
      "}\u001b[0m\r\n"
     ]
    }
   ],
   "source": [
    "!ansible all -m file -a \"dest=/tmp/README.md mode=600 owner=root group=root\" -s"
   ]
  },
  {
   "cell_type": "code",
   "execution_count": 15,
   "metadata": {
    "collapsed": false
   },
   "outputs": [
    {
     "name": "stdout",
     "output_type": "stream",
     "text": [
      "\u001b[0;32mubuntu1 | SUCCESS | rc=0 >>\r\n",
      "total 4\r\n",
      "-rw------- 1 root root 1158 Mar  7 04:43 README.md\r\n",
      "\u001b[0m\r\n"
     ]
    }
   ],
   "source": [
    "!ansible all -m command -a \"ls -l /tmp\""
   ]
  },
  {
   "cell_type": "markdown",
   "metadata": {},
   "source": [
    "* Remove file.\n",
    "\n",
    "        `sudo rm /tmp/REEADME.md`"
   ]
  },
  {
   "cell_type": "code",
   "execution_count": 16,
   "metadata": {
    "collapsed": false
   },
   "outputs": [
    {
     "name": "stdout",
     "output_type": "stream",
     "text": [
      "\u001b[0;32mubuntu1 | SUCCESS => {\r\n",
      "    \"changed\": true, \r\n",
      "    \"path\": \"/tmp/README.md\", \r\n",
      "    \"state\": \"absent\"\r\n",
      "}\u001b[0m\r\n"
     ]
    }
   ],
   "source": [
    "!ansible all -m file -a \"dest=/tmp/README.md state=absent\" -s"
   ]
  },
  {
   "cell_type": "code",
   "execution_count": 17,
   "metadata": {
    "collapsed": false
   },
   "outputs": [
    {
     "name": "stdout",
     "output_type": "stream",
     "text": [
      "\u001b[0;32mubuntu1 | SUCCESS | rc=0 >>\r\n",
      "total 0\r\n",
      "\u001b[0m\r\n"
     ]
    }
   ],
   "source": [
    "!ansible all -m command -a \"ls -l /tmp\""
   ]
  },
  {
   "cell_type": "markdown",
   "metadata": {},
   "source": [
    "### Package Manage\n",
    "\n",
    "It's like\n",
    "\n",
    "    $ sudo apt-get update && sudo apt-get install nginx"
   ]
  },
  {
   "cell_type": "code",
   "execution_count": 53,
   "metadata": {
    "collapsed": false
   },
   "outputs": [
    {
     "name": "stdout",
     "output_type": "stream",
     "text": [
      "\u001b[0;32mubuntu1 | SUCCESS => {\r\n",
      "    \"cache_update_time\": 0, \r\n",
      "    \"cache_updated\": false, \r\n",
      "    \"changed\": false\r\n",
      "}\u001b[0m\r\n"
     ]
    }
   ],
   "source": [
    "!ansible all -m apt -a \"name=nginx state=latest\" -s"
   ]
  },
  {
   "cell_type": "markdown",
   "metadata": {},
   "source": [
    "### Users and Groups\n",
    "\n",
    "It's like `adduser`, `deluser`...\n",
    "\n",
    "* Add **foo** user."
   ]
  },
  {
   "cell_type": "code",
   "execution_count": 18,
   "metadata": {
    "collapsed": false
   },
   "outputs": [
    {
     "name": "stdout",
     "output_type": "stream",
     "text": [
      "\u001b[0;32mubuntu1 | SUCCESS => {\r\n",
      "    \"changed\": true, \r\n",
      "    \"comment\": \"\", \r\n",
      "    \"createhome\": true, \r\n",
      "    \"group\": 1002, \r\n",
      "    \"home\": \"/home/foo\", \r\n",
      "    \"name\": \"foo\", \r\n",
      "    \"password\": \"NOT_LOGGING_PASSWORD\", \r\n",
      "    \"shell\": \"\", \r\n",
      "    \"state\": \"present\", \r\n",
      "    \"stderr\": \"useradd: warning: the home directory already exists.\\nNot copying any file from skel directory into it.\\n\", \r\n",
      "    \"system\": false, \r\n",
      "    \"uid\": 1002\r\n",
      "}\u001b[0m\r\n"
     ]
    }
   ],
   "source": [
    "!ansible all -m user -a \"name=foo password=FooPasswordd\" -s"
   ]
  },
  {
   "cell_type": "code",
   "execution_count": 19,
   "metadata": {
    "collapsed": false
   },
   "outputs": [
    {
     "name": "stdout",
     "output_type": "stream",
     "text": [
      "\u001b[0;32mubuntu1 | SUCCESS | rc=0 >>\r\n",
      "ubuntu:x:1001:\r\n",
      "utempter:x:115:\r\n",
      "foo:x:1002:\r\n",
      "\u001b[0m\r\n"
     ]
    }
   ],
   "source": [
    "!ansible all -m shell -a \"tail -n 3 /etc/group\""
   ]
  },
  {
   "cell_type": "markdown",
   "metadata": {},
   "source": [
    "* Delete **foo** user."
   ]
  },
  {
   "cell_type": "code",
   "execution_count": 20,
   "metadata": {
    "collapsed": false
   },
   "outputs": [
    {
     "name": "stdout",
     "output_type": "stream",
     "text": [
      "\u001b[0;32mubuntu1 | SUCCESS => {\r\n",
      "    \"changed\": true, \r\n",
      "    \"force\": false, \r\n",
      "    \"name\": \"foo\", \r\n",
      "    \"remove\": false, \r\n",
      "    \"state\": \"absent\"\r\n",
      "}\u001b[0m\r\n"
     ]
    }
   ],
   "source": [
    "!ansible all -m user -a \"name=foo state=absent\" -s"
   ]
  },
  {
   "cell_type": "code",
   "execution_count": 21,
   "metadata": {
    "collapsed": false
   },
   "outputs": [
    {
     "name": "stdout",
     "output_type": "stream",
     "text": [
      "\u001b[0;32mubuntu1 | SUCCESS | rc=0 >>\r\n",
      "puppet:x:114:\r\n",
      "ubuntu:x:1001:\r\n",
      "utempter:x:115:\r\n",
      "\u001b[0m\r\n"
     ]
    }
   ],
   "source": [
    "!ansible all -m shell -a \"tail -n 3 /etc/group\""
   ]
  },
  {
   "cell_type": "markdown",
   "metadata": {
    "collapsed": true
   },
   "source": [
    "### Deploying From Source Control\n",
    "\n",
    "使用 Git 來部署 my dotfiles。"
   ]
  },
  {
   "cell_type": "code",
   "execution_count": 39,
   "metadata": {
    "collapsed": false
   },
   "outputs": [
    {
     "name": "stdout",
     "output_type": "stream",
     "text": [
      "\u001b[0;32mubuntu1 | SUCCESS => {\r\n",
      "    \"after\": \"e8738ba3ebea96ed7e7c582c291d9bf8d683e172\", \r\n",
      "    \"before\": null, \r\n",
      "    \"changed\": true\r\n",
      "}\u001b[0m\r\n"
     ]
    }
   ],
   "source": [
    "!ansible all -m git -a \"repo=https://github.com/chusiang/tuxENV.git dest=~/vcs/tuxENV version=HEAD\""
   ]
  },
  {
   "cell_type": "code",
   "execution_count": 47,
   "metadata": {
    "collapsed": false
   },
   "outputs": [
    {
     "name": "stdout",
     "output_type": "stream",
     "text": [
      "\u001b[0;32mubuntu1 | SUCCESS | rc=0 >>\r\n",
      "* master e8738ba Merge branch 'develop'\r\n",
      "\u001b[0m\r\n"
     ]
    }
   ],
   "source": [
    "!ansible all -m shell -a \"cd ~/vcs/tuxENV/ && git branch -v\""
   ]
  },
  {
   "cell_type": "code",
   "execution_count": 46,
   "metadata": {
    "collapsed": false
   },
   "outputs": [
    {
     "name": "stdout",
     "output_type": "stream",
     "text": [
      "\u001b[0;32mubuntu1 | SUCCESS | rc=0 >>\r\n",
      "=> Install start.\r\n",
      "cat home/_bash_aliases > /home/vagrant/.bash_aliases\r\n",
      "cat home/_bash_export > /home/vagrant/.bash_export\r\n",
      "cat home/_bash_profile > /home/vagrant/.bash_profile\r\n",
      "cat home/_bashrc > /home/vagrant/.bashrc\r\n",
      "cat home/_screenrc > /home/vagrant/.screenrc\r\n",
      "cat home/_tmux.conf > /home/vagrant/.tmux.conf\r\n",
      "cat home/_inputrc > /home/vagrant/.inputrc\r\n",
      "cat home/_gitconfig > /home/vagrant/.gitconfig\r\n",
      "cat home/_myclirc > /home/vagrant/.myclirc\r\n",
      "cp -a home/bin/ /home/vagrant/bin \r\n",
      "=> Done.\r\n",
      "\u001b[0m\r\n"
     ]
    }
   ],
   "source": [
    "!ansible all -m shell -a \"cd ~/vcs/tuxENV/ && make install\""
   ]
  },
  {
   "cell_type": "markdown",
   "metadata": {},
   "source": [
    "### Managing Services\n",
    "\n",
    "* start nginx."
   ]
  },
  {
   "cell_type": "code",
   "execution_count": 58,
   "metadata": {
    "collapsed": false
   },
   "outputs": [
    {
     "name": "stdout",
     "output_type": "stream",
     "text": [
      "\u001b[0;32mubuntu1 | SUCCESS => {\r\n",
      "    \"changed\": false, \r\n",
      "    \"name\": \"nginx\", \r\n",
      "    \"state\": \"started\"\r\n",
      "}\u001b[0m\r\n"
     ]
    }
   ],
   "source": [
    "!ansible all -m service -a \"name=nginx state=started\" -s"
   ]
  },
  {
   "cell_type": "markdown",
   "metadata": {},
   "source": [
    "* restart nginx."
   ]
  },
  {
   "cell_type": "code",
   "execution_count": 61,
   "metadata": {
    "collapsed": false
   },
   "outputs": [
    {
     "name": "stdout",
     "output_type": "stream",
     "text": [
      "\u001b[0;32mubuntu1 | SUCCESS => {\r\n",
      "    \"changed\": true, \r\n",
      "    \"name\": \"nginx\", \r\n",
      "    \"state\": \"started\"\r\n",
      "}\u001b[0m\r\n"
     ]
    }
   ],
   "source": [
    "!ansible all -m service -a \"name=nginx state=restarted\" -s"
   ]
  },
  {
   "cell_type": "markdown",
   "metadata": {},
   "source": [
    "* stop nginx."
   ]
  },
  {
   "cell_type": "code",
   "execution_count": 60,
   "metadata": {
    "collapsed": false
   },
   "outputs": [
    {
     "name": "stdout",
     "output_type": "stream",
     "text": [
      "\u001b[0;32mubuntu1 | SUCCESS => {\r\n",
      "    \"changed\": true, \r\n",
      "    \"name\": \"nginx\", \r\n",
      "    \"state\": \"stopped\"\r\n",
      "}\u001b[0m\r\n"
     ]
    }
   ],
   "source": [
    "!ansible all -m service -a \"name=nginx state=stopped\" -s"
   ]
  },
  {
   "cell_type": "markdown",
   "metadata": {
    "collapsed": true
   },
   "source": [
    "## Playbooks\n",
    "\n",
    "* [Playbooks | Ansible Documentation](http://docs.ansible.com/ansible/playbooks.html)\n",
    "* [Playbooks | Ansible 中文權威指南 1.0.1](http://chusiang.github.io/ansible-docs-translate/playbooks.html)\n"
   ]
  },
  {
   "cell_type": "code",
   "execution_count": 3,
   "metadata": {
    "collapsed": false
   },
   "outputs": [
    {
     "name": "stdout",
     "output_type": "stream",
     "text": [
      "#!/usr/bin/env ansible-playbook\r\n",
      "# ============================================================\r\n",
      "#  Author: chusiang / chusiang.lai (at) gmail.com\r\n",
      "#  Filename: upgrade-openssl.yml\r\n",
      "#  Modified: 2016-03-03 11:44\r\n",
      "#  Description: security upgrade the openssl package\r\n",
      "#  Reference: \r\n",
      "#\r\n",
      "#   1. ansible print debug msg variable - Server Fault\r\n",
      "#    - http://serverfault.com/questions/695786/ansible-print-debug-msg-variable\r\n",
      "#\r\n",
      "# =========================================================== \r\n",
      "\r\n",
      "---\r\n",
      "- name: upgrade package of openssl \r\n",
      "  hosts: all\r\n",
      "  sudo: True\r\n",
      "  tasks:\r\n",
      "    - name: upgrade on ubuntu\r\n",
      "      apt: name=openssl update_cache=yes state=latest\r\n",
      "      when: ansible_distribution == \"Ubuntu\"\r\n",
      "\r\n",
      "    - name: check version on ubuntu\r\n",
      "      command: dpkg-query -W openssl\r\n",
      "      register: dpkg_package_version\r\n",
      "      when: ansible_distribution == \"Ubuntu\"\r\n",
      "\r\n",
      "    - name: print version\r\n",
      "      debug:\r\n",
      "        msg: \"OpenSSL Version: {{ dpkg_package_version.stdout }}\"\r\n",
      "      when: ansible_distribution == \"Ubuntu\"\r\n",
      "\r\n",
      "    - name: upgrade on centos\r\n",
      "      yum: name=openssl update_cache=yes state=latest\r\n",
      "      when: ansible_distribution == \"CentOS\"\r\n",
      "\r\n",
      "    - name: check version on centos\r\n",
      "      command: rpm -q openssl\r\n",
      "      register: rpm_package_version\r\n",
      "      when: ansible_distribution == \"CentOS\"\r\n",
      "\r\n",
      "    - name: print version\r\n",
      "      debug:\r\n",
      "        msg: \"OpenSSL Version: {{ rpm_package_version.stdout }}\"\r\n",
      "      when: ansible_distribution == \"CentOS\"\r\n",
      "\r\n"
     ]
    }
   ],
   "source": [
    "!cat upgrade-openssl.yml"
   ]
  },
  {
   "cell_type": "code",
   "execution_count": 7,
   "metadata": {
    "collapsed": false
   },
   "outputs": [
    {
     "name": "stdout",
     "output_type": "stream",
     "text": [
      "\u001b[0;35m[DEPRECATION WARNING]: Instead of sudo/sudo_user, use become/become_user and \n",
      "make sure become_method is 'sudo' (default). This feature will be removed in a \n",
      "future release. Deprecation warnings can be disabled by setting \n",
      "deprecation_warnings=False in ansible.cfg.\u001b[0m\n",
      "\n",
      "PLAY [upgrade package of openssl] **********************************************\n",
      "\n",
      "TASK [setup] *******************************************************************\n",
      "\u001b[0;32mok: [ubuntu1]\u001b[0m\n",
      "\n",
      "TASK [upgrade on ubuntu] *******************************************************\n",
      "\u001b[0;32mok: [ubuntu1]\u001b[0m\n",
      "\n",
      "TASK [check version on ubuntu] *************************************************\n",
      "\u001b[0;33mchanged: [ubuntu1]\u001b[0m\n",
      "\n",
      "TASK [print version] ***********************************************************\n",
      "\u001b[0;32mok: [ubuntu1] => {\n",
      "    \"msg\": \"OpenSSL Version: openssl\\t1.0.1f-1ubuntu2.18\"\n",
      "}\u001b[0m\n",
      "\n",
      "TASK [upgrade on centos] *******************************************************\n",
      "\u001b[0;36mskipping: [ubuntu1]\u001b[0m\n",
      "\n",
      "TASK [check version on centos] *************************************************\n",
      "\u001b[0;36mskipping: [ubuntu1]\u001b[0m\n",
      "\n",
      "TASK [print version] ***********************************************************\n",
      "\u001b[0;36mskipping: [ubuntu1]\u001b[0m\n",
      "\n",
      "PLAY RECAP *********************************************************************\n",
      "\u001b[0;33mubuntu1\u001b[0m                    : \u001b[0;32mok\u001b[0m\u001b[0;32m=\u001b[0m\u001b[0;32m4\u001b[0m    \u001b[0;33mchanged\u001b[0m\u001b[0;33m=\u001b[0m\u001b[0;33m1\u001b[0m    unreachable=0    failed=0   \n",
      "\n"
     ]
    }
   ],
   "source": [
    "!ansible-playbook upgrade-openssl.yml"
   ]
  }
 ],
 "metadata": {
  "kernelspec": {
   "display_name": "Python 2",
   "language": "python",
   "name": "python2"
  },
  "language_info": {
   "codemirror_mode": {
    "name": "ipython",
    "version": 2
   },
   "file_extension": ".py",
   "mimetype": "text/x-python",
   "name": "python",
   "nbconvert_exporter": "python",
   "pygments_lexer": "ipython2",
   "version": "2.7.6"
  }
 },
 "nbformat": 4,
 "nbformat_minor": 0
}
