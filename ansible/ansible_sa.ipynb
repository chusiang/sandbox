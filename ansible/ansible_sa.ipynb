{
 "cells": [
  {
   "cell_type": "markdown",
   "metadata": {},
   "source": [
    "# Hello Ansible!"
   ]
  },
  {
   "cell_type": "markdown",
   "metadata": {},
   "source": [
    "### 使用 shift + Enter 執行 Jupyter  內的區塊, 按 a 在上方增加區塊, 按 b 在下方增加區塊\n",
    "### 每個 指令下方預先建立好一個空白的區塊給大家打指令練習\n",
    "### 測試 ansible ping module, 一般來說也是第一個被測試的module 確認主機連線\n",
    "###  語法 ansible <host-pattern> [-f forks] [-m module_name] [-a args]\n",
    "#### ansible -vvvv 可以用來 debug"
   ]
  },
  {
   "cell_type": "code",
   "execution_count": 1,
   "metadata": {
    "collapsed": false
   },
   "outputs": [
    {
     "name": "stdout",
     "output_type": "stream",
     "text": [
      "\u001b[0;32mtest | success >> {\r\n",
      "    \"changed\": false, \r\n",
      "    \"ping\": \"pong\"\r\n",
      "}\r\n",
      "\u001b[0m\r\n"
     ]
    }
   ],
   "source": [
    "!ansible test -i hosts -m ping"
   ]
  },
  {
   "cell_type": "code",
   "execution_count": null,
   "metadata": {
    "collapsed": true
   },
   "outputs": [],
   "source": []
  },
  {
   "cell_type": "markdown",
   "metadata": {},
   "source": [
    "### 除了使用主機名稱以外也可以用群組的方式\n",
    "### 剛剛的 hosts 檔案內就有 [sa] 群組的定義"
   ]
  },
  {
   "cell_type": "code",
   "execution_count": 2,
   "metadata": {
    "collapsed": false
   },
   "outputs": [
    {
     "name": "stdout",
     "output_type": "stream",
     "text": [
      "\u001b[0;32mtest | success >> {\r\n",
      "    \"changed\": false, \r\n",
      "    \"ping\": \"pong\"\r\n",
      "}\r\n",
      "\u001b[0m\r\n"
     ]
    }
   ],
   "source": [
    "!ansible sa -i hosts -m ping"
   ]
  },
  {
   "cell_type": "code",
   "execution_count": null,
   "metadata": {
    "collapsed": true
   },
   "outputs": [],
   "source": []
  },
  {
   "cell_type": "markdown",
   "metadata": {},
   "source": [
    "### 預設一個群組為 all 就是針對所有的主機"
   ]
  },
  {
   "cell_type": "code",
   "execution_count": 8,
   "metadata": {
    "collapsed": false
   },
   "outputs": [
    {
     "name": "stdout",
     "output_type": "stream",
     "text": [
      "\u001b[0;32mtest | success >> {\r\n",
      "    \"changed\": false, \r\n",
      "    \"ping\": \"pong\"\r\n",
      "}\r\n",
      "\u001b[0m\r\n"
     ]
    }
   ],
   "source": [
    "!ansible all -i hosts -m ping"
   ]
  },
  {
   "cell_type": "code",
   "execution_count": null,
   "metadata": {
    "collapsed": true
   },
   "outputs": [],
   "source": []
  },
  {
   "cell_type": "markdown",
   "metadata": {},
   "source": [
    "# --------------------------------------------------------------------------------------------\n",
    "\n",
    "# Hands on Lab with Module\n",
    "\n",
    "# --------------------------------------------------------------------------------------------"
   ]
  },
  {
   "cell_type": "markdown",
   "metadata": {},
   "source": [
    "## Ansible Module 查詢\n",
    "## http://docs.ansible.com/ansible/modules_by_category.html\n",
    "### 以不同功能來分類 Ansible Moduel"
   ]
  },
  {
   "cell_type": "markdown",
   "metadata": {},
   "source": [
    "### 現在來試試看其他的 module\n",
    "### 利用 shell module 與 yum module 來觀察與安裝套件\n",
    "### ansible 對象 -m 模組名稱 -a 要傳入的參數\n"
   ]
  },
  {
   "cell_type": "markdown",
   "metadata": {},
   "source": [
    "### 首先來試試看 command module\n",
    "### command module http://docs.ansible.com/ansible/command_module.html"
   ]
  },
  {
   "cell_type": "code",
   "execution_count": 3,
   "metadata": {
    "collapsed": false
   },
   "outputs": [
    {
     "name": "stdout",
     "output_type": "stream",
     "text": [
      "\u001b[0;32mtest | success | rc=0 >>\r\n",
      " 07:05:06 up 4 days, 21:11,  0 users,  load average: 0.00, 0.01, 0.05\r\n",
      "\u001b[0m\r\n"
     ]
    }
   ],
   "source": [
    "!ansible all -m command -a 'uptime'"
   ]
  },
  {
   "cell_type": "markdown",
   "metadata": {},
   "source": [
    "* find package of telnet."
   ]
  },
  {
   "cell_type": "code",
   "execution_count": 10,
   "metadata": {
    "collapsed": false
   },
   "outputs": [
    {
     "name": "stdout",
     "output_type": "stream",
     "text": [
      "\u001b[0;32mtest | success | rc=0 >>\n",
      "centos-release-7-2.1511.el7.centos.2.10.x86_64\n",
      "filesystem-3.2-20.el7.x86_64\n",
      "basesystem-10.0-7.el7.centos.noarch\n",
      "glibc-common-2.17-106.el7_2.1.x86_64\n",
      "glibc-2.17-106.el7_2.1.x86_64\n",
      "libstdc++-4.8.5-4.el7.x86_64\n",
      "bash-4.2.46-19.el7.x86_64\n",
      "pcre-8.32-15.el7.x86_64\n",
      "zlib-1.2.7-15.el7.x86_64\n",
      "popt-1.13-16.el7.x86_64\n",
      "libcom_err-1.42.9-7.el7.x86_64\n",
      "chkconfig-1.3.61-5.el7.x86_64\n",
      "nspr-4.10.8-2.el7_1.x86_64\n",
      "elfutils-libelf-0.163-3.el7.x86_64\n",
      "libgpg-error-1.12-3.el7.x86_64\n",
      "libattr-2.4.46-12.el7.x86_64\n",
      "libacl-2.2.51-12.el7.x86_64\n",
      "libxml2-2.9.1-6.el7_2.2.x86_64\n",
      "libgcrypt-1.5.3-12.el7_1.1.x86_64\n",
      "readline-6.2-9.el7.x86_64\n",
      "cpio-2.11-24.el7.x86_64\n",
      "elfutils-libs-0.163-3.el7.x86_64\n",
      "findutils-4.5.11-5.el7.x86_64\n",
      "expat-2.1.0-8.el7.x86_64\n",
      "libcap-ng-0.7.5-4.el7.x86_64\n",
      "p11-kit-0.20.7-3.el7.x86_64\n",
      "file-libs-5.11-31.el7.x86_64\n",
      "keyutils-libs-1.5.8-3.el7.x86_64\n",
      "pkgconfig-0.27.1-4.el7.x86_64\n",
      "gobject-introspection-1.42.0-1.el7.x86_64\n",
      "acl-2.2.51-12.el7.x86_64\n",
      "pinentry-0.8.1-14.el7.x86_64\n",
      "libdb-utils-5.3.21-19.el7.x86_64\n",
      "ncurses-5.9-13.20130511.el7.x86_64\n",
      "gmp-6.0.0-12.el7_1.x86_64\n",
      "pth-2.0.7-23.el7.x86_64\n",
      "libsemanage-2.1.10-18.el7.x86_64\n",
      "qrencode-libs-3.4.1-3.el7.x86_64\n",
      "libtasn1-3.8-2.el7.x86_64\n",
      "krb5-libs-1.13.2-10.el7.x86_64\n",
      "coreutils-8.22-15.el7.x86_64\n",
      "libblkid-2.23.2-26.el7.x86_64\n",
      "gzip-1.5-8.el7.x86_64\n",
      "cracklib-dicts-2.9.0-11.el7.x86_64\n",
      "pam-1.1.8-12.el7_1.1.x86_64\n",
      "procps-ng-3.3.10-3.el7.x86_64\n",
      "libutempter-1.1.6-4.el7.x86_64\n",
      "nss-sysinit-3.19.1-18.el7.x86_64\n",
      "nss-tools-3.19.1-18.el7.x86_64\n",
      "libssh2-1.4.3-10.el7.x86_64\n",
      "curl-7.29.0-25.el7.centos.x86_64\n",
      "rpm-4.11.3-17.el7.x86_64\n",
      "libuser-0.60-7.el7_1.x86_64\n",
      "gpgme-1.3.2-5.el7.x86_64\n",
      "device-mapper-1.02.107-5.el7.x86_64\n",
      "cryptsetup-libs-1.6.7-1.el7.x86_64\n",
      "kmod-20-5.el7.x86_64\n",
      "dbus-1.6.12-13.el7.x86_64\n",
      "gdbm-1.10-8.el7.x86_64\n",
      "python-2.7.5-34.el7.x86_64\n",
      "dbus-python-1.1.1-9.el7.x86_64\n",
      "yum-metadata-parser-1.1.4-10.el7.x86_64\n",
      "python-urlgrabber-3.10-7.el7.noarch\n",
      "pygobject3-base-3.14.0-3.el7.x86_64\n",
      "pyxattr-0.5.1-5.el7.x86_64\n",
      "yum-3.4.3-132.el7.centos.0.1.noarch\n",
      "passwd-0.79-4.el7.x86_64\n",
      "tar-1.26-29.el7.x86_64\n",
      "rootfiles-8.1-11.el7.noarch\n",
      "epel-release-7-5.noarch\n",
      "fipscheck-1.4.1-5.el7.x86_64\n",
      "tcp_wrappers-libs-7.6-77.el7.x86_64\n",
      "sudo-1.8.6p7-16.el7.x86_64\n",
      "python-kitchen-1.1.1-5.el7.noarch\n",
      "libgcc-4.8.5-4.el7.x86_64\n",
      "setup-2.8.71-6.el7.noarch\n",
      "bind-license-9.9.4-29.el7.noarch\n",
      "ncurses-base-5.9-13.20130511.el7.noarch\n",
      "tzdata-2015g-1.el7.noarch\n",
      "nss-softokn-freebl-3.16.2.3-13.el7_1.x86_64\n",
      "xz-libs-5.1.2-12alpha.el7.x86_64\n",
      "ncurses-libs-5.9-13.20130511.el7.x86_64\n",
      "libsepol-2.1.9-3.el7.x86_64\n",
      "libselinux-2.2.2-6.el7.x86_64\n",
      "info-5.1-4.el7.x86_64\n",
      "bzip2-libs-1.0.6-13.el7.x86_64\n",
      "libdb-5.3.21-19.el7.x86_64\n",
      "sed-4.2.2-5.el7.x86_64\n",
      "nss-util-3.19.1-4.el7_1.x86_64\n",
      "audit-libs-2.4.1-5.el7.x86_64\n",
      "libffi-3.0.13-16.el7.x86_64\n",
      "libcap-2.22-8.el7.x86_64\n",
      "grep-2.20-2.el7.x86_64\n",
      "libuuid-2.23.2-26.el7.x86_64\n",
      "gawk-4.0.2-4.el7.x86_64\n",
      "lua-5.1.4-14.el7.x86_64\n",
      "sqlite-3.7.17-8.el7.x86_64\n",
      "libidn-1.28-4.el7.x86_64\n",
      "diffutils-3.3-4.el7.x86_64\n",
      "dbus-libs-1.6.12-13.el7.x86_64\n",
      "nss-softokn-3.16.2.3-13.el7_1.x86_64\n",
      "libassuan-2.1.0-3.el7.x86_64\n",
      "xz-5.1.2-12alpha.el7.x86_64\n",
      "hostname-3.13-3.el7.x86_64\n",
      "glib2-2.42.2-5.el7.x86_64\n",
      "shared-mime-info-1.1-9.el7.x86_64\n",
      "dbus-glib-0.100-7.el7.x86_64\n",
      "cyrus-sasl-lib-2.1.26-19.2.el7.x86_64\n",
      "libss-1.42.9-7.el7.x86_64\n",
      "kmod-libs-20-5.el7.x86_64\n",
      "ustr-1.0.4-16.el7.x86_64\n",
      "libverto-0.2.5-4.el7.x86_64\n",
      "hardlink-1.0-19.el7.x86_64\n",
      "p11-kit-trust-0.20.7-3.el7.x86_64\n",
      "openssl-libs-1.0.1e-51.el7_2.1.x86_64\n",
      "ca-certificates-2015.2.4-71.el7.noarch\n",
      "shadow-utils-4.1.5.1-18.el7.x86_64\n",
      "cracklib-2.9.0-11.el7.x86_64\n",
      "libpwquality-1.2.3-4.el7.x86_64\n",
      "systemd-libs-219-19.el7.x86_64\n",
      "libmount-2.23.2-26.el7.x86_64\n",
      "nss-3.19.1-18.el7.x86_64\n",
      "binutils-2.23.52.0.1-55.el7.x86_64\n",
      "libcurl-7.29.0-25.el7.centos.x86_64\n",
      "rpm-libs-4.11.3-17.el7.x86_64\n",
      "openldap-2.4.40-8.el7.x86_64\n",
      "util-linux-2.23.2-26.el7.x86_64\n",
      "gnupg2-2.0.22-3.el7.x86_64\n",
      "rpm-build-libs-4.11.3-17.el7.x86_64\n",
      "kpartx-0.4.9-85.el7.x86_64\n",
      "device-mapper-libs-1.02.107-5.el7.x86_64\n",
      "dracut-033-360.el7_2.x86_64\n",
      "systemd-219-19.el7.x86_64\n",
      "iputils-20121221-7.el7.x86_64\n",
      "python-libs-2.7.5-34.el7.x86_64\n",
      "pygpgme-0.3-9.el7.x86_64\n",
      "python-iniparse-0.4-9.el7.noarch\n",
      "python-pycurl-7.19.0-17.el7.x86_64\n",
      "rpm-python-4.11.3-17.el7.x86_64\n",
      "pyliblzma-0.5.3-11.el7.x86_64\n",
      "yum-plugin-fastestmirror-1.1.31-34.el7.noarch\n",
      "vim-minimal-7.4.160-1.el7.x86_64\n",
      "gpg-pubkey-f4a80eb5-53a7ff4b\n",
      "fipscheck-lib-1.4.1-5.el7.x86_64\n",
      "openssh-6.6.1p1-22.el7.x86_64\n",
      "openssh-server-6.6.1p1-22.el7.x86_64\n",
      "python-chardet-2.2.1-1.el7_1.noarch\n",
      "yum-utils-1.1.31-34.el7.noarch\n",
      "\u001b[0m\n"
     ]
    }
   ],
   "source": [
    "!ansible all -m command -a 'rpm -q telnet'"
   ]
  },
  {
   "cell_type": "code",
   "execution_count": 12,
   "metadata": {
    "collapsed": false
   },
   "outputs": [
    {
     "name": "stdout",
     "output_type": "stream",
     "text": [
      "\u001b[0;32mtest | success | rc=0 >>\r\n",
      "Loaded plugins: fastestmirror\r\n",
      "Loading mirror speeds from cached hostfile\r\n",
      " * base: centos.netnitco.net\r\n",
      " * epel: mirror.steadfast.net\r\n",
      " * extras: cosmos.illinois.edu\r\n",
      " * updates: mirrors.liquidweb.com\r\n",
      "=============================== N/S matched: vim ===============================\r\n",
      "beakerlib-vim-syntax.noarch : Files for syntax highlighting BeakerLib tests in\r\n",
      "                            : VIM editor\r\n",
      "golang-vim.noarch : Vim plugins for Go\r\n",
      "protobuf-vim.x86_64 : Vim syntax highlighting for Google Protocol Buffers\r\n",
      "                    : descriptions\r\n",
      "vim-X11.x86_64 : The VIM version of the vi editor for the X Window System\r\n",
      "vim-clustershell.noarch : VIM files for ClusterShell\r\n",
      "vim-common.x86_64 : The common files needed by any version of the VIM editor\r\n",
      "vim-enhanced.x86_64 : A version of the VIM editor which includes recent\r\n",
      "                    : enhancements\r\n",
      "vim-filesystem.x86_64 : VIM filesystem layout\r\n",
      "vim-gtk-syntax.noarch : Vim syntax highlighting for GLib, Gtk+, Gstreamer, and\r\n",
      "                      : more\r\n",
      "vim-minimal.x86_64 : A minimal version of the VIM editor\r\n",
      "vim-vimoutliner.noarch : Script for building an outline editor on top of Vim\r\n",
      "vile-common.x86_64 : The common files needed by any version of the VIM editor\r\n",
      "\r\n",
      "  Name and summary matches only, use \"search all\" for everything.\r\n",
      "\u001b[0m\r\n"
     ]
    }
   ],
   "source": [
    "!ansible all -m command -a 'yum search vim'"
   ]
  },
  {
   "cell_type": "markdown",
   "metadata": {},
   "source": [
    "* Install telnet."
   ]
  },
  {
   "cell_type": "code",
   "execution_count": 11,
   "metadata": {
    "collapsed": false
   },
   "outputs": [
    {
     "name": "stdout",
     "output_type": "stream",
     "text": [
      "\u001b[0;32mtest | success >> {\r\n",
      "    \"changed\": true, \r\n",
      "    \"msg\": \"\", \r\n",
      "    \"rc\": 0, \r\n",
      "    \"results\": [\r\n",
      "        \"Loaded plugins: fastestmirror\\nLoading mirror speeds from cached hostfile\\n * base: centos.netnitco.net\\n * epel: mirror.steadfast.net\\n * extras: cosmos.illinois.edu\\n * updates: mirrors.liquidweb.com\\nResolving Dependencies\\n--> Running transaction check\\n---> Package telnet.x86_64 1:0.17-59.el7 will be installed\\n--> Finished Dependency Resolution\\n\\nDependencies Resolved\\n\\n================================================================================\\n Package          Arch             Version                 Repository      Size\\n================================================================================\\nInstalling:\\n telnet           x86_64           1:0.17-59.el7           base            63 k\\n\\nTransaction Summary\\n================================================================================\\nInstall  1 Package\\n\\nTotal download size: 63 k\\nInstalled size: 113 k\\nDownloading packages:\\nRunning transaction check\\nRunning transaction test\\nTransaction test succeeded\\nRunning transaction\\n  Installing : 1:telnet-0.17-59.el7.x86_64                                  1/1 \\n  Verifying  : 1:telnet-0.17-59.el7.x86_64                                  1/1 \\n\\nInstalled:\\n  telnet.x86_64 1:0.17-59.el7                                                   \\n\\nComplete!\\n\"\r\n",
      "    ]\r\n",
      "}\r\n",
      "\u001b[0m\r\n"
     ]
    }
   ],
   "source": [
    "!ansible all -m yum -a 'name=telnet'"
   ]
  },
  {
   "cell_type": "code",
   "execution_count": null,
   "metadata": {
    "collapsed": true
   },
   "outputs": [],
   "source": [
    "!ansible all -m yum -a 'name=vim-common'"
   ]
  },
  {
   "cell_type": "markdown",
   "metadata": {},
   "source": [
    "### 但是 command module 沒有辦法處理 pipe 那樣的處理\n",
    "### shell module 的好處是可以處理 | pipe 相關處理\n",
    "### 透過 shell 模組執行指令來查詢是否安裝 telnet 套件\n",
    "#### shell module http://docs.ansible.com/ansible/shell_module.html"
   ]
  },
  {
   "cell_type": "code",
   "execution_count": null,
   "metadata": {
    "collapsed": false
   },
   "outputs": [],
   "source": [
    "!ansible all  -m  shell -a 'rpm -qa | sort' "
   ]
  },
  {
   "cell_type": "code",
   "execution_count": null,
   "metadata": {
    "collapsed": true
   },
   "outputs": [],
   "source": []
  },
  {
   "cell_type": "code",
   "execution_count": null,
   "metadata": {
    "collapsed": false
   },
   "outputs": [],
   "source": [
    "!ansible all  -m  shell  -a  \"rpm -q telnet\""
   ]
  },
  {
   "cell_type": "code",
   "execution_count": null,
   "metadata": {
    "collapsed": true
   },
   "outputs": [],
   "source": []
  },
  {
   "cell_type": "markdown",
   "metadata": {},
   "source": [
    "#### 使用 yum 模組來安裝套件\n",
    "#### 如果是 ubuntu 環境就是使用 apt module\n",
    "#### yum module 參考 http://docs.ansible.com/ansible/yum_module.html"
   ]
  },
  {
   "cell_type": "code",
   "execution_count": null,
   "metadata": {
    "collapsed": false
   },
   "outputs": [],
   "source": [
    "!ansible all -m yum -a 'name=telnet'"
   ]
  },
  {
   "cell_type": "code",
   "execution_count": null,
   "metadata": {
    "collapsed": true
   },
   "outputs": [],
   "source": []
  },
  {
   "cell_type": "markdown",
   "metadata": {},
   "source": [
    "#### 確認套件是否安裝"
   ]
  },
  {
   "cell_type": "code",
   "execution_count": null,
   "metadata": {
    "collapsed": false
   },
   "outputs": [],
   "source": [
    "!ansible all  -m  shell  -a  \"rpm -q telnet\""
   ]
  },
  {
   "cell_type": "code",
   "execution_count": null,
   "metadata": {
    "collapsed": true
   },
   "outputs": [],
   "source": []
  },
  {
   "cell_type": "markdown",
   "metadata": {},
   "source": [
    "### 移除 telnet  套件"
   ]
  },
  {
   "cell_type": "code",
   "execution_count": null,
   "metadata": {
    "collapsed": false
   },
   "outputs": [],
   "source": [
    "!ansible all -m yum -a 'name=telnet state=absent'"
   ]
  },
  {
   "cell_type": "code",
   "execution_count": null,
   "metadata": {
    "collapsed": true
   },
   "outputs": [],
   "source": []
  },
  {
   "cell_type": "markdown",
   "metadata": {},
   "source": [
    "#### 確認套件是否安裝"
   ]
  },
  {
   "cell_type": "code",
   "execution_count": null,
   "metadata": {
    "collapsed": false
   },
   "outputs": [],
   "source": [
    "!ansible all  -m  shell  -a  \"rpm -q telnet\""
   ]
  },
  {
   "cell_type": "code",
   "execution_count": null,
   "metadata": {
    "collapsed": true
   },
   "outputs": [],
   "source": []
  },
  {
   "cell_type": "markdown",
   "metadata": {},
   "source": [
    "### 使用 file module 來設定檔案權限或是建立檔案\n",
    "### file module http://docs.ansible.com/ansible/file_module.html\n",
    "### 在家目錄建立 text.txt\n",
    "### file moudle 如果檔案不存在無法執行, 如果要建立檔案一定要使用 state=touch"
   ]
  },
  {
   "cell_type": "code",
   "execution_count": null,
   "metadata": {
    "collapsed": false
   },
   "outputs": [],
   "source": [
    "!ansible  all -m file -a 'path=~/test.txt state=touch'"
   ]
  },
  {
   "cell_type": "code",
   "execution_count": null,
   "metadata": {
    "collapsed": true
   },
   "outputs": [],
   "source": []
  },
  {
   "cell_type": "markdown",
   "metadata": {},
   "source": [
    "### 觀察結果"
   ]
  },
  {
   "cell_type": "code",
   "execution_count": null,
   "metadata": {
    "collapsed": false
   },
   "outputs": [],
   "source": [
    "!ansible  all  -m shell -a 'ls -lR  ~'"
   ]
  },
  {
   "cell_type": "code",
   "execution_count": null,
   "metadata": {
    "collapsed": true
   },
   "outputs": [],
   "source": []
  },
  {
   "cell_type": "markdown",
   "metadata": {},
   "source": [
    "### 改變檔案的權限 一定要用完整的權限表示方式 四碼"
   ]
  },
  {
   "cell_type": "code",
   "execution_count": null,
   "metadata": {
    "collapsed": false
   },
   "outputs": [],
   "source": [
    "!ansible  all  -m file  -a  'path=~/test.txt mode=0777'"
   ]
  },
  {
   "cell_type": "code",
   "execution_count": null,
   "metadata": {
    "collapsed": true
   },
   "outputs": [],
   "source": []
  },
  {
   "cell_type": "markdown",
   "metadata": {},
   "source": [
    "### 觀察結果"
   ]
  },
  {
   "cell_type": "code",
   "execution_count": null,
   "metadata": {
    "collapsed": false
   },
   "outputs": [],
   "source": [
    "!ansible  all  -m shell -a 'ls -lR  ~'"
   ]
  },
  {
   "cell_type": "code",
   "execution_count": null,
   "metadata": {
    "collapsed": true
   },
   "outputs": [],
   "source": []
  },
  {
   "cell_type": "markdown",
   "metadata": {},
   "source": [
    "### 利用 file module 建立資料夾"
   ]
  },
  {
   "cell_type": "code",
   "execution_count": null,
   "metadata": {
    "collapsed": false
   },
   "outputs": [],
   "source": [
    "!ansible  all  -m file  -a 'path=~/abc state=directory'"
   ]
  },
  {
   "cell_type": "code",
   "execution_count": null,
   "metadata": {
    "collapsed": true
   },
   "outputs": [],
   "source": []
  },
  {
   "cell_type": "markdown",
   "metadata": {},
   "source": [
    "### 觀察結果"
   ]
  },
  {
   "cell_type": "code",
   "execution_count": null,
   "metadata": {
    "collapsed": false
   },
   "outputs": [],
   "source": [
    "!ansible  all  -m shell -a 'ls -lR  ~'"
   ]
  },
  {
   "cell_type": "code",
   "execution_count": null,
   "metadata": {
    "collapsed": true
   },
   "outputs": [],
   "source": []
  },
  {
   "cell_type": "markdown",
   "metadata": {},
   "source": [
    "### 接下來介紹  setup module\n",
    "### Ansible 會透過 GATHERING FACTS 取得主機資訊\n",
    "### 也可以透過 setup module 來觀察\n",
    "#### setup module 參考 http://docs.ansible.com/ansible/setup_module.html"
   ]
  },
  {
   "cell_type": "code",
   "execution_count": null,
   "metadata": {
    "collapsed": false
   },
   "outputs": [],
   "source": [
    "!ansible all -m setup"
   ]
  },
  {
   "cell_type": "code",
   "execution_count": null,
   "metadata": {
    "collapsed": true
   },
   "outputs": [],
   "source": []
  },
  {
   "cell_type": "markdown",
   "metadata": {},
   "source": [
    "### 我們可以透過 GATHERING FACTS 來取得資訊\n",
    "### 也就是說可以判斷不同的OS 來使用不同的模組 zypper / yum / apt"
   ]
  },
  {
   "cell_type": "markdown",
   "metadata": {},
   "source": [
    "# --------------------------------------------------------------------------------------------\n",
    "\n",
    "# Hands on Lab with playbook\n",
    "\n",
    "# --------------------------------------------------------------------------------------------"
   ]
  },
  {
   "cell_type": "markdown",
   "metadata": {},
   "source": [
    "## 接下來試試看 playbook 吧\n",
    "### 語法 ansible-playbook < filename.yml \\> ... [options]\n",
    "### 也請觀察 shell_yum_when.yml 內容"
   ]
  },
  {
   "cell_type": "code",
   "execution_count": 1,
   "metadata": {
    "collapsed": false
   },
   "outputs": [
    {
     "name": "stdout",
     "output_type": "stream",
     "text": [
      "\n",
      "PLAY [use when conditionals and setup module (facts)] ************************* \n",
      "\n",
      "GATHERING FACTS *************************************************************** \n",
      "\u001b[0;32mok: [test]\u001b[0m\n",
      "\n",
      "TASK: [use setup module to list os distribution] ****************************** \n",
      "\u001b[0;32mok: [test]\u001b[0m\n",
      "\n",
      "TASK: [check telnet command in /usr/bin] ************************************** \n",
      "\u001b[0;33mchanged: [test]\u001b[0m\n",
      "\n",
      "TASK: [debug var=rpm.stdout_lines] ******************************************** \n",
      "\u001b[0;32mok: [test] => {\n",
      "    \"var\": {\n",
      "        \"rpm.stdout_lines\": [\n",
      "            \"telnet-0.17-59.el7.x86_64\"\n",
      "        ]\n",
      "    }\n",
      "}\u001b[0m\n",
      "\n",
      "TASK: [check telnet-ssl package with Ubuntu] ********************************** \n",
      "\u001b[0;36mskipping: [test]\u001b[0m\n",
      "\n",
      "TASK: [debug var=dpkg.stdout_lines] ******************************************* \n",
      "\u001b[0;32mok: [test] => {\n",
      "    \"var\": {\n",
      "        \"dpkg.stdout_lines\": \"{{dpkg.stdout_lines}}\"\n",
      "    }\n",
      "}\u001b[0m\n",
      "\n",
      "TASK: [Install telnet when CentOS] ******************************************** \n",
      "\u001b[0;32mok: [test]\u001b[0m\n",
      "\n",
      "TASK: [Install telnet-ssl when Ubuntu] **************************************** \n",
      "\u001b[0;36mskipping: [test]\u001b[0m\n",
      "\n",
      "TASK: [check telnet packages] ************************************************* \n",
      "\u001b[0;33mchanged: [test]\u001b[0m\n",
      "\n",
      "TASK: [debug var=rpm.stdout_lines] ******************************************** \n",
      "\u001b[0;32mok: [test] => {\n",
      "    \"var\": {\n",
      "        \"rpm.stdout_lines\": [\n",
      "            \"telnet-0.17-59.el7.x86_64\"\n",
      "        ]\n",
      "    }\n",
      "}\u001b[0m\n",
      "\n",
      "TASK: [check telnetd package with Ubuntu] ************************************* \n",
      "\u001b[0;36mskipping: [test]\u001b[0m\n",
      "\n",
      "TASK: [debug var=dpkg.stdout_lines] ******************************************* \n",
      "\u001b[0;32mok: [test] => {\n",
      "    \"var\": {\n",
      "        \"dpkg.stdout_lines\": \"{{dpkg.stdout_lines}}\"\n",
      "    }\n",
      "}\u001b[0m\n",
      "\n",
      "PLAY RECAP ******************************************************************** \n",
      "\u001b[0;33mtest\u001b[0m                       : \u001b[0;32mok\u001b[0m\u001b[0;32m=\u001b[0m\u001b[0;32m9\u001b[0m    \u001b[0;33mchanged\u001b[0m\u001b[0;33m=\u001b[0m\u001b[0;33m2\u001b[0m    unreachable=0    failed=0   \n",
      "\n"
     ]
    }
   ],
   "source": [
    "!ansible-playbook  shell_yum_when.yml"
   ]
  },
  {
   "cell_type": "markdown",
   "metadata": {},
   "source": [
    "## 牛刀小試"
   ]
  },
  {
   "cell_type": "markdown",
   "metadata": {
    "collapsed": true
   },
   "source": [
    "\n",
    "\n",
    "\n",
    "\n"
   ]
  }
 ],
 "metadata": {
  "kernelspec": {
   "display_name": "Python 3",
   "language": "python",
   "name": "python3"
  },
  "language_info": {
   "codemirror_mode": {
    "name": "ipython",
    "version": 3
   },
   "file_extension": ".py",
   "mimetype": "text/x-python",
   "name": "python",
   "nbconvert_exporter": "python",
   "pygments_lexer": "ipython3",
   "version": "3.4.3"
  }
 },
 "nbformat": 4,
 "nbformat_minor": 0
}
