{
 "cells": [
  {
   "cell_type": "markdown",
   "metadata": {},
   "source": [
    "# Ansible Note\n",
    "\n",
    "This is a note for Ansible with jupyter (iPython Notebook)."
   ]
  },
  {
   "cell_type": "markdown",
   "metadata": {},
   "source": [
    "## Environment"
   ]
  },
  {
   "cell_type": "code",
   "execution_count": 5,
   "metadata": {
    "collapsed": false
   },
   "outputs": [
    {
     "name": "stdout",
     "output_type": "stream",
     "text": [
      "root\r\n"
     ]
    }
   ],
   "source": [
    "!whoami"
   ]
  },
  {
   "cell_type": "code",
   "execution_count": 2,
   "metadata": {
    "collapsed": false
   },
   "outputs": [
    {
     "name": "stdout",
     "output_type": "stream",
     "text": [
      "/vagrant\r\n"
     ]
    }
   ],
   "source": [
    "!pwd"
   ]
  },
  {
   "cell_type": "code",
   "execution_count": 3,
   "metadata": {
    "collapsed": false
   },
   "outputs": [
    {
     "name": "stdout",
     "output_type": "stream",
     "text": [
      "# syntax: servername  options\r\n",
      "# 常用選項\r\n",
      "# ansible_ssh_host -- Remote Host IP\r\n",
      "# ansible_ssh_user -- Remote SSH User Name\r\n",
      "# ansible_ssh_private_key_file -- SSH Key\r\n",
      "# ansible_ssh_port -- ssh port\r\n",
      "# ansible_ssh_pass -- ssh password\r\n",
      "\r\n",
      "# 如果有定義到 ansible.cfg 的 [ defaults ] 就可以不列出\r\n",
      "# testserver   ansible_ssh_host=xxx.xxx.xxx.xxx ansible_ssh_port=xx ansible_ssh_pass\r\n",
      "\r\n",
      "ubuntu1   ansible_ssh_host=33.33.33.31  ansible_ssh_port=22\r\n",
      "\r\n",
      "# docker1       ansible_ssh_host=172.17.0.3 ansible_ssh_port=22\r\n",
      "\r\n",
      "# 針對不同的平台可能 key 以及使用者不一樣可以額外指定\r\n",
      "\r\n",
      "# 也可以用群組的方式\r\n",
      "[vagrant]\r\n",
      "ubuntu1\r\n",
      "\r\n",
      "[test]\r\n",
      "ubuntu1\r\n",
      "\r\n",
      "# [docker]\r\n"
     ]
    }
   ],
   "source": [
    "!cat hosts"
   ]
  },
  {
   "cell_type": "markdown",
   "metadata": {},
   "source": [
    "## Ad hoc\n",
    "\n",
    "### ping"
   ]
  },
  {
   "cell_type": "code",
   "execution_count": 4,
   "metadata": {
    "collapsed": false
   },
   "outputs": [
    {
     "name": "stdout",
     "output_type": "stream",
     "text": [
      "\u001b[0;32mubuntu1 | SUCCESS => {\r\n",
      "    \"changed\": false, \r\n",
      "    \"ping\": \"pong\"\r\n",
      "}\u001b[0m\r\n"
     ]
    }
   ],
   "source": [
    "!ansible all -m ping"
   ]
  },
  {
   "cell_type": "code",
   "execution_count": 1,
   "metadata": {
    "collapsed": false
   },
   "outputs": [
    {
     "name": "stdout",
     "output_type": "stream",
     "text": [
      "\u001b[0;32mubuntu1 | SUCCESS | rc=0 >>\r\n",
      "vagrant\r\n",
      "\u001b[0m\r\n"
     ]
    }
   ],
   "source": [
    "!ansible all -a 'whoami'"
   ]
  },
  {
   "cell_type": "code",
   "execution_count": 2,
   "metadata": {
    "collapsed": false
   },
   "outputs": [
    {
     "name": "stdout",
     "output_type": "stream",
     "text": [
      "\u001b[0;32mubuntu1 | SUCCESS | rc=0 >>\r\n",
      "\r\n",
      "\u001b[0m\r\n"
     ]
    }
   ],
   "source": [
    "!ansible all -a 'sudo shutdown -h now'"
   ]
  }
 ],
 "metadata": {
  "kernelspec": {
   "display_name": "Python 2",
   "language": "python",
   "name": "python2"
  },
  "language_info": {
   "codemirror_mode": {
    "name": "ipython",
    "version": 2
   },
   "file_extension": ".py",
   "mimetype": "text/x-python",
   "name": "python",
   "nbconvert_exporter": "python",
   "pygments_lexer": "ipython2",
   "version": "2.7.6"
  }
 },
 "nbformat": 4,
 "nbformat_minor": 0
}
