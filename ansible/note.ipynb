{
 "cells": [
  {
   "cell_type": "markdown",
   "metadata": {},
   "source": [
    "# Ansible Note\n",
    "\n",
    "This is a note for Ansible with jupyter (iPython Notebook)."
   ]
  },
  {
   "cell_type": "markdown",
   "metadata": {},
   "source": [
    "## Environment"
   ]
  },
  {
   "cell_type": "code",
   "execution_count": 1,
   "metadata": {
    "collapsed": false
   },
   "outputs": [
    {
     "name": "stdout",
     "output_type": "stream",
     "text": [
      "root\r\n"
     ]
    }
   ],
   "source": [
    "!whoami"
   ]
  },
  {
   "cell_type": "code",
   "execution_count": 2,
   "metadata": {
    "collapsed": false
   },
   "outputs": [
    {
     "name": "stdout",
     "output_type": "stream",
     "text": [
      "/vagrant\r\n"
     ]
    }
   ],
   "source": [
    "!pwd"
   ]
  },
  {
   "cell_type": "code",
   "execution_count": 3,
   "metadata": {
    "collapsed": false
   },
   "outputs": [
    {
     "name": "stdout",
     "output_type": "stream",
     "text": [
      "# syntax: servername  options\r\n",
      "# 常用選項\r\n",
      "# ansible_ssh_host -- Remote Host IP\r\n",
      "# ansible_ssh_user -- Remote SSH User Name\r\n",
      "# ansible_ssh_private_key_file -- SSH Key\r\n",
      "# ansible_ssh_port -- ssh port\r\n",
      "# ansible_ssh_pass -- ssh password\r\n",
      "\r\n",
      "# 如果有定義到 ansible.cfg 的 [ defaults ] 就可以不列出\r\n",
      "# testserver   ansible_ssh_host=xxx.xxx.xxx.xxx ansible_ssh_port=xx ansible_ssh_pass\r\n",
      "\r\n",
      "ubuntu1   ansible_ssh_host=33.33.33.31  ansible_ssh_port=22\r\n",
      "\r\n",
      "# docker1       ansible_ssh_host=172.17.0.3 ansible_ssh_port=22\r\n",
      "\r\n",
      "# 針對不同的平台可能 key 以及使用者不一樣可以額外指定\r\n",
      "\r\n",
      "# 也可以用群組的方式\r\n",
      "[vagrant]\r\n",
      "ubuntu1\r\n",
      "\r\n",
      "[test]\r\n",
      "ubuntu1\r\n",
      "\r\n",
      "# [docker]\r\n"
     ]
    }
   ],
   "source": [
    "!cat hosts"
   ]
  },
  {
   "cell_type": "markdown",
   "metadata": {},
   "source": [
    "## Ad-Hoc\n",
    "\n",
    "相對於 Ad-Hoc 和 ansible-playbook 而言，我們可以用 command 和 shell script 來理解。  \n",
    "\n",
    "### Module\n",
    "\n",
    "#### Command"
   ]
  },
  {
   "cell_type": "code",
   "execution_count": 6,
   "metadata": {
    "collapsed": false,
    "scrolled": true
   },
   "outputs": [
    {
     "name": "stdout",
     "output_type": "stream",
     "text": [
      "\u001b[0;32mubuntu1 | SUCCESS | rc=0 >>\r\n",
      "vagrant\r\n",
      "\u001b[0m\r\n"
     ]
    }
   ],
   "source": [
    "!ansible all -a 'whoami'"
   ]
  },
  {
   "cell_type": "markdown",
   "metadata": {},
   "source": [
    "#### Ping"
   ]
  },
  {
   "cell_type": "code",
   "execution_count": 7,
   "metadata": {
    "collapsed": false
   },
   "outputs": [
    {
     "name": "stdout",
     "output_type": "stream",
     "text": [
      "\u001b[0;32mubuntu1 | SUCCESS => {\r\n",
      "    \"changed\": false, \r\n",
      "    \"ping\": \"pong\"\r\n",
      "}\u001b[0m\r\n"
     ]
    }
   ],
   "source": [
    "!ansible all -m ping"
   ]
  },
  {
   "cell_type": "markdown",
   "metadata": {},
   "source": [
    "#### File Transfer"
   ]
  },
  {
   "cell_type": "code",
   "execution_count": 8,
   "metadata": {
    "collapsed": false
   },
   "outputs": [
    {
     "name": "stdout",
     "output_type": "stream",
     "text": [
      "\u001b[0;32mubuntu1 | SUCCESS => {\r\n",
      "    \"changed\": true, \r\n",
      "    \"checksum\": \"8cdab64639ae175a2e4dfcac34fa42afb93ea8d3\", \r\n",
      "    \"dest\": \"/tmp/README.md\", \r\n",
      "    \"gid\": 1000, \r\n",
      "    \"group\": \"vagrant\", \r\n",
      "    \"md5sum\": \"3eef0c4dbb0f8462a5df3823ff40fd17\", \r\n",
      "    \"mode\": \"0664\", \r\n",
      "    \"owner\": \"vagrant\", \r\n",
      "    \"size\": 1158, \r\n",
      "    \"src\": \"/home/vagrant/.ansible/tmp/ansible-tmp-1457290265.96-55204483586613/source\", \r\n",
      "    \"state\": \"file\", \r\n",
      "    \"uid\": 1000\r\n",
      "}\u001b[0m\r\n"
     ]
    }
   ],
   "source": [
    "!ansible all -m copy -a \"src=README.md dest=/tmp/\""
   ]
  },
  {
   "cell_type": "markdown",
   "metadata": {},
   "source": [
    "#### Package\n",
    "\n",
    "It's like `sudo apt-get update && sudo apt-get install vim`."
   ]
  },
  {
   "cell_type": "code",
   "execution_count": null,
   "metadata": {
    "collapsed": false
   },
   "outputs": [],
   "source": [
    "!ansible all -m apt -a \"name=vim state=latest\" -s"
   ]
  },
  {
   "cell_type": "code",
   "execution_count": null,
   "metadata": {
    "collapsed": true
   },
   "outputs": [],
   "source": []
  }
 ],
 "metadata": {
  "kernelspec": {
   "display_name": "Python 2",
   "language": "python",
   "name": "python2"
  },
  "language_info": {
   "codemirror_mode": {
    "name": "ipython",
    "version": 2
   },
   "file_extension": ".py",
   "mimetype": "text/x-python",
   "name": "python",
   "nbconvert_exporter": "python",
   "pygments_lexer": "ipython2",
   "version": "2.7.6"
  }
 },
 "nbformat": 4,
 "nbformat_minor": 0
}
